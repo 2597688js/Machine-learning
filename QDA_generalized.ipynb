{
 "cells": [
  {
   "cell_type": "code",
   "execution_count": 20,
   "metadata": {},
   "outputs": [],
   "source": [
    "import numpy as np\n",
    "import matplotlib.pyplot as plt\n",
    "%matplotlib inline"
   ]
  },
  {
   "cell_type": "code",
   "execution_count": 21,
   "metadata": {},
   "outputs": [
    {
     "data": {
      "text/plain": [
       "(300, 4)"
      ]
     },
     "execution_count": 21,
     "metadata": {},
     "output_type": "execute_result"
    }
   ],
   "source": [
    "data = np.loadtxt(\"data8.csv\", delimiter=\",\")\n",
    "N,n = data.shape\n",
    "N,n"
   ]
  },
  {
   "cell_type": "code",
   "execution_count": 22,
   "metadata": {},
   "outputs": [
    {
     "data": {
      "text/plain": [
       "3"
      ]
     },
     "execution_count": 22,
     "metadata": {},
     "output_type": "execute_result"
    }
   ],
   "source": [
    "X = data[:,0:n-1]\n",
    "y = data[:,n-1]\n",
    "for i in range(y.size):\n",
    "    if (y[i] == -1):\n",
    "        y[i] = 0\n",
    "X.shape[1]"
   ]
  },
  {
   "cell_type": "raw",
   "metadata": {},
   "source": [
    "plt.scatter(X[y==1][:,0],X[y==1][:,1],color=\"r\",label=\"1\")\n",
    "plt.scatter(X[y==0][:,0],X[y==0][:,1],color=\"b\",label=\"0\")\n",
    "plt.legend()"
   ]
  },
  {
   "cell_type": "code",
   "execution_count": 23,
   "metadata": {},
   "outputs": [],
   "source": [
    "classes = set(y)\n",
    "classes_list_ = list(classes)\n",
    "no_of_class = len(classes)"
   ]
  },
  {
   "cell_type": "code",
   "execution_count": 24,
   "metadata": {},
   "outputs": [
    {
     "data": {
      "text/plain": [
       "[1.0, 2.0, 3.0]"
      ]
     },
     "execution_count": 24,
     "metadata": {},
     "output_type": "execute_result"
    }
   ],
   "source": [
    "classes_list_"
   ]
  },
  {
   "cell_type": "code",
   "execution_count": 25,
   "metadata": {},
   "outputs": [],
   "source": [
    "# list of all the datapoints corresponding to each class\n",
    "x_ = []\n",
    "for i in range(no_of_class):\n",
    "    x_.append(X[y == classes_list_[i]])\n",
    "#print(x_)"
   ]
  },
  {
   "cell_type": "code",
   "execution_count": 26,
   "metadata": {},
   "outputs": [],
   "source": [
    "def mean_vectors():\n",
    "    mu_vector_ = []# list for storing all the mean vectors of each column of each class\n",
    "    temp_mu = []\n",
    "    for i in range(no_of_class):\n",
    "        for j in range(X.shape[1]):\n",
    "            temp_mu.append(x_[i][:,j].mean())\n",
    "        mu_vector_.append(temp_mu)\n",
    "        temp_mu = []\n",
    "    return np.array(mu_vector_)"
   ]
  },
  {
   "cell_type": "code",
   "execution_count": 27,
   "metadata": {},
   "outputs": [
    {
     "data": {
      "text/plain": [
       "array([ 4.52535246,  4.3741836 , -2.93426428])"
      ]
     },
     "execution_count": 27,
     "metadata": {},
     "output_type": "execute_result"
    }
   ],
   "source": [
    "mu_vector_ = mean_vectors()\n",
    "mu_vector_[1]"
   ]
  },
  {
   "cell_type": "code",
   "execution_count": null,
   "metadata": {},
   "outputs": [],
   "source": []
  },
  {
   "cell_type": "code",
   "execution_count": 28,
   "metadata": {},
   "outputs": [],
   "source": [
    "# covariance matrices for each class\n",
    "def covariance_matrices():\n",
    "    N,n = data.shape\n",
    "    cov_mat_list_ = []\n",
    "    for j in range(no_of_class):\n",
    "        test = np.zeros((n-1,n-1)) \n",
    "        for i in range(x_[j].shape[0]):\n",
    "            test = test + np.outer(x_[j][i] - mu_vector_[j],(x_[j][i] - mu_vector_[j]).T)\n",
    "        cov_mat_list_.append(test/N)\n",
    "    return (np.array(cov_mat_list_))"
   ]
  },
  {
   "cell_type": "code",
   "execution_count": 29,
   "metadata": {},
   "outputs": [
    {
     "data": {
      "text/plain": [
       "array([[[ 4.97991606,  3.26359846,  1.49228733],\n",
       "        [ 3.26359846,  5.22116626,  0.47540649],\n",
       "        [ 1.49228733,  0.47540649,  2.79250983]],\n",
       "\n",
       "       [[ 2.43426575, -0.04892244, -0.14117587],\n",
       "        [-0.04892244,  1.6184325 , -0.05703783],\n",
       "        [-0.14117587, -0.05703783,  1.34733   ]],\n",
       "\n",
       "       [[ 3.00157395, -0.36446682, -0.03127352],\n",
       "        [-0.36446682,  2.68324119,  0.47444956],\n",
       "        [-0.03127352,  0.47444956,  2.20996356]]])"
      ]
     },
     "execution_count": 29,
     "metadata": {},
     "output_type": "execute_result"
    }
   ],
   "source": [
    "cov_mat_list_ = covariance_matrices()\n",
    "cov_mat_list_"
   ]
  },
  {
   "cell_type": "code",
   "execution_count": 30,
   "metadata": {},
   "outputs": [],
   "source": [
    "# list of the inverses of the covariance matrices and their determinants\n",
    "\n",
    "cov_inv_list_ = np.array([np.linalg.inv(cov) for cov in cov_mat_list_])\n",
    "cov_det_list_ = np.array( [np.linalg.det(cov) for cov in cov_mat_list_] )"
   ]
  },
  {
   "cell_type": "code",
   "execution_count": 31,
   "metadata": {},
   "outputs": [
    {
     "data": {
      "text/plain": [
       "array([34.74276213,  5.26388061, 16.83789614])"
      ]
     },
     "execution_count": 31,
     "metadata": {},
     "output_type": "execute_result"
    }
   ],
   "source": [
    "cov_det_list_"
   ]
  },
  {
   "cell_type": "code",
   "execution_count": 32,
   "metadata": {},
   "outputs": [],
   "source": [
    "def probability_y():\n",
    "    prob_y_ = []\n",
    "    actual_y_lst = list(y)\n",
    "    for i in range(len(classes_list_)) :\n",
    "        prob_y_.append( (actual_y_lst.count(classes_list_[i])) / len(actual_y_lst) )\n",
    "    return prob_y_"
   ]
  },
  {
   "cell_type": "code",
   "execution_count": 33,
   "metadata": {},
   "outputs": [
    {
     "data": {
      "text/plain": [
       "[0.3333333333333333, 0.3333333333333333, 0.3333333333333333]"
      ]
     },
     "execution_count": 33,
     "metadata": {},
     "output_type": "execute_result"
    }
   ],
   "source": [
    "prob_y_ = probability_y()\n",
    "prob_y_"
   ]
  },
  {
   "cell_type": "code",
   "execution_count": 34,
   "metadata": {},
   "outputs": [],
   "source": [
    "def predict_y(): # to get the predicted y vector\n",
    "    pred = []\n",
    "    for i in range(X.shape[0]):\n",
    "        tst = []\n",
    "        for j in range(no_of_class):\n",
    "            a = np.log(prob_y_[j]) - 0.5 * (np.dot( np.dot((mu_vector_[j]).T,cov_inv_list_[j]),mu_vector_[j] ) ) \n",
    "            b = a + np.dot(np.dot(X[i].T,cov_inv_list_[j]),mu_vector_[j])\n",
    "            c = (-0.5) * ( np.dot( np.dot(X[i].T,cov_inv_list_[j]), X[i]) + np.log(cov_det_list_[j]) )\n",
    "            d = b + c\n",
    "            tst.append(d)\n",
    "        e = max(tst)\n",
    "        f = tst.index(e)\n",
    "        #print(classes_list_[f])\n",
    "        pred.append(classes_list_[f])\n",
    "       # pred.append(tst.index(e)+1)\n",
    "    #print(d)\n",
    "    return np.array(pred)"
   ]
  },
  {
   "cell_type": "code",
   "execution_count": 35,
   "metadata": {},
   "outputs": [
    {
     "data": {
      "text/plain": [
       "array([1., 1., 1., 3., 1., 1., 1., 1., 1., 3., 1., 1., 1., 1., 1., 1., 1.,\n",
       "       3., 1., 1., 1., 3., 1., 1., 3., 3., 1., 1., 1., 1., 1., 3., 1., 1.,\n",
       "       1., 1., 1., 1., 1., 1., 1., 1., 1., 1., 1., 1., 1., 1., 1., 1., 1.,\n",
       "       1., 3., 1., 1., 1., 1., 3., 1., 1., 1., 3., 1., 1., 1., 1., 1., 1.,\n",
       "       3., 1., 1., 1., 3., 1., 1., 1., 1., 1., 1., 1., 1., 1., 1., 1., 1.,\n",
       "       3., 1., 3., 1., 1., 1., 1., 1., 1., 1., 1., 1., 1., 1., 1., 2., 2.,\n",
       "       2., 2., 2., 2., 3., 2., 2., 2., 3., 2., 2., 2., 3., 2., 2., 2., 2.,\n",
       "       3., 2., 2., 2., 3., 2., 2., 2., 2., 2., 2., 2., 2., 3., 3., 2., 2.,\n",
       "       2., 2., 2., 2., 2., 2., 3., 2., 3., 2., 2., 2., 2., 2., 2., 2., 2.,\n",
       "       2., 2., 2., 2., 2., 2., 3., 2., 2., 2., 2., 2., 2., 2., 2., 3., 2.,\n",
       "       2., 2., 2., 2., 2., 2., 2., 2., 2., 2., 3., 2., 2., 2., 2., 2., 2.,\n",
       "       2., 2., 2., 2., 2., 3., 2., 2., 2., 2., 2., 2., 2., 1., 3., 3., 3.,\n",
       "       3., 3., 3., 1., 3., 3., 3., 2., 3., 3., 3., 3., 3., 3., 3., 3., 3.,\n",
       "       3., 3., 3., 3., 3., 1., 3., 3., 3., 2., 3., 2., 3., 3., 3., 3., 3.,\n",
       "       3., 3., 1., 1., 3., 3., 3., 3., 1., 3., 3., 3., 3., 2., 3., 1., 3.,\n",
       "       3., 3., 3., 3., 3., 3., 2., 1., 3., 3., 3., 3., 3., 3., 3., 1., 3.,\n",
       "       3., 3., 3., 3., 3., 3., 3., 3., 3., 3., 3., 3., 3., 3., 3., 1., 3.,\n",
       "       3., 3., 3., 3., 3., 3., 3., 3., 3., 3., 3.])"
      ]
     },
     "execution_count": 35,
     "metadata": {},
     "output_type": "execute_result"
    }
   ],
   "source": [
    "predicted_y = predict_y()\n",
    "predicted_y"
   ]
  },
  {
   "cell_type": "code",
   "execution_count": null,
   "metadata": {},
   "outputs": [],
   "source": []
  },
  {
   "cell_type": "code",
   "execution_count": 36,
   "metadata": {},
   "outputs": [
    {
     "data": {
      "text/plain": [
       "array([1., 1., 1., 1., 1., 1., 1., 1., 1., 1., 1., 1., 1., 1., 1., 1., 1.,\n",
       "       1., 1., 1., 1., 1., 1., 1., 1., 1., 1., 1., 1., 1., 1., 1., 1., 1.,\n",
       "       1., 1., 1., 1., 1., 1., 1., 1., 1., 1., 1., 1., 1., 1., 1., 1., 1.,\n",
       "       1., 1., 1., 1., 1., 1., 1., 1., 1., 1., 1., 1., 1., 1., 1., 1., 1.,\n",
       "       1., 1., 1., 1., 1., 1., 1., 1., 1., 1., 1., 1., 1., 1., 1., 1., 1.,\n",
       "       1., 1., 1., 1., 1., 1., 1., 1., 1., 1., 1., 1., 1., 1., 1., 2., 2.,\n",
       "       2., 2., 2., 2., 2., 2., 2., 2., 2., 2., 2., 2., 2., 2., 2., 2., 2.,\n",
       "       2., 2., 2., 2., 2., 2., 2., 2., 2., 2., 2., 2., 2., 2., 2., 2., 2.,\n",
       "       2., 2., 2., 2., 2., 2., 2., 2., 2., 2., 2., 2., 2., 2., 2., 2., 2.,\n",
       "       2., 2., 2., 2., 2., 2., 2., 2., 2., 2., 2., 2., 2., 2., 2., 2., 2.,\n",
       "       2., 2., 2., 2., 2., 2., 2., 2., 2., 2., 2., 2., 2., 2., 2., 2., 2.,\n",
       "       2., 2., 2., 2., 2., 2., 2., 2., 2., 2., 2., 2., 2., 3., 3., 3., 3.,\n",
       "       3., 3., 3., 3., 3., 3., 3., 3., 3., 3., 3., 3., 3., 3., 3., 3., 3.,\n",
       "       3., 3., 3., 3., 3., 3., 3., 3., 3., 3., 3., 3., 3., 3., 3., 3., 3.,\n",
       "       3., 3., 3., 3., 3., 3., 3., 3., 3., 3., 3., 3., 3., 3., 3., 3., 3.,\n",
       "       3., 3., 3., 3., 3., 3., 3., 3., 3., 3., 3., 3., 3., 3., 3., 3., 3.,\n",
       "       3., 3., 3., 3., 3., 3., 3., 3., 3., 3., 3., 3., 3., 3., 3., 3., 3.,\n",
       "       3., 3., 3., 3., 3., 3., 3., 3., 3., 3., 3.])"
      ]
     },
     "execution_count": 36,
     "metadata": {},
     "output_type": "execute_result"
    }
   ],
   "source": [
    "y"
   ]
  },
  {
   "cell_type": "code",
   "execution_count": 37,
   "metadata": {},
   "outputs": [],
   "source": [
    "def accuracy():\n",
    "    correct_prediction = 0\n",
    "    for i in range(y.shape[0]):\n",
    "        if (predicted_y[i] == y[i]):\n",
    "            correct_prediction += 1\n",
    "    \n",
    "    per = (correct_prediction *100) / y.size\n",
    "    print(per)"
   ]
  },
  {
   "cell_type": "code",
   "execution_count": 38,
   "metadata": {},
   "outputs": [
    {
     "name": "stdout",
     "output_type": "stream",
     "text": [
      "86.0\n"
     ]
    }
   ],
   "source": [
    "acc = accuracy()"
   ]
  },
  {
   "cell_type": "code",
   "execution_count": null,
   "metadata": {},
   "outputs": [],
   "source": []
  },
  {
   "cell_type": "code",
   "execution_count": null,
   "metadata": {},
   "outputs": [],
   "source": []
  },
  {
   "cell_type": "code",
   "execution_count": null,
   "metadata": {},
   "outputs": [],
   "source": []
  },
  {
   "cell_type": "code",
   "execution_count": null,
   "metadata": {},
   "outputs": [],
   "source": []
  }
 ],
 "metadata": {
  "kernelspec": {
   "display_name": "Python 3",
   "language": "python",
   "name": "python3"
  },
  "language_info": {
   "codemirror_mode": {
    "name": "ipython",
    "version": 3
   },
   "file_extension": ".py",
   "mimetype": "text/x-python",
   "name": "python",
   "nbconvert_exporter": "python",
   "pygments_lexer": "ipython3",
   "version": "3.6.5"
  }
 },
 "nbformat": 4,
 "nbformat_minor": 2
}
