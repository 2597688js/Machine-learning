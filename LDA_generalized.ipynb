{
 "cells": [
  {
   "cell_type": "code",
   "execution_count": 1,
   "metadata": {},
   "outputs": [],
   "source": [
    "import numpy as np\n",
    "import matplotlib.pyplot as plt\n",
    "%matplotlib inline"
   ]
  },
  {
   "cell_type": "code",
   "execution_count": 151,
   "metadata": {},
   "outputs": [
    {
     "data": {
      "text/plain": [
       "(200, 3)"
      ]
     },
     "execution_count": 151,
     "metadata": {},
     "output_type": "execute_result"
    }
   ],
   "source": [
    "data = np.loadtxt(\"data1.csv\", delimiter=\",\")\n",
    "N,n = data.shape\n",
    "y = data[:,n-1]\n",
    "for i in range(y.size):\n",
    "    if (y[i] == -1):\n",
    "        y[i] = 0\n",
    "N,n"
   ]
  },
  {
   "cell_type": "code",
   "execution_count": 152,
   "metadata": {},
   "outputs": [],
   "source": [
    "X = data[:,0:n-1]\n",
    "y = data[:,n-1]"
   ]
  },
  {
   "cell_type": "code",
   "execution_count": 153,
   "metadata": {},
   "outputs": [],
   "source": [
    "classes = set(y)\n",
    "classes_list_ = list(classes)\n",
    "no_of_class = len(classes)"
   ]
  },
  {
   "cell_type": "code",
   "execution_count": 154,
   "metadata": {},
   "outputs": [
    {
     "data": {
      "text/plain": [
       "[0.0, 1.0]"
      ]
     },
     "execution_count": 154,
     "metadata": {},
     "output_type": "execute_result"
    }
   ],
   "source": [
    "classes_list_"
   ]
  },
  {
   "cell_type": "code",
   "execution_count": 155,
   "metadata": {},
   "outputs": [],
   "source": [
    "# list of all the datapoints corresponding to each class\n",
    "x_ = []\n",
    "for i in range(no_of_class):\n",
    "    x_.append(X[y == classes_list_[i]])\n",
    "#print(x_)"
   ]
  },
  {
   "cell_type": "code",
   "execution_count": 156,
   "metadata": {},
   "outputs": [],
   "source": [
    "#x_[2]"
   ]
  },
  {
   "cell_type": "code",
   "execution_count": 157,
   "metadata": {},
   "outputs": [],
   "source": [
    "def mean_vectors():\n",
    "    mu_vector_ = []# list for storing all the mean vectors of each column of each class\n",
    "    temp_mu = []\n",
    "    for i in range(no_of_class):\n",
    "        for j in range(X.shape[1]):\n",
    "            temp_mu.append(x_[i][:,j].mean())\n",
    "        mu_vector_.append(temp_mu)\n",
    "        temp_mu = []\n",
    "    return np.array(mu_vector_)"
   ]
  },
  {
   "cell_type": "code",
   "execution_count": 158,
   "metadata": {},
   "outputs": [
    {
     "data": {
      "text/plain": [
       "array([14.95, 34.32])"
      ]
     },
     "execution_count": 158,
     "metadata": {},
     "output_type": "execute_result"
    }
   ],
   "source": [
    "mu_vector_ = mean_vectors()\n",
    "mu_vector_[1]"
   ]
  },
  {
   "cell_type": "raw",
   "metadata": {},
   "source": [
    "test = np.zeros((2,2))                         # CLASS 0\n",
    "for i in range(x_[0].shape[0]):\n",
    "    test = test + np.outer(x_[0][i] - mu_vector_[0],(x_[0][i] - mu_vector_[0]).T)\n",
    "    a = test\n",
    "print(test)"
   ]
  },
  {
   "cell_type": "raw",
   "metadata": {},
   "source": [
    "test = np.zeros((2,2))                     # CLASS 1\n",
    "for i in range(x_[1].shape[0]):\n",
    "    test = test + np.outer(x_[1][i] - mu_vector_[1],(x_[1][i] - mu_vector_[1]).T)\n",
    "    b = test\n",
    "    #test = test1 + test\n",
    "print(test)"
   ]
  },
  {
   "cell_type": "code",
   "execution_count": 159,
   "metadata": {},
   "outputs": [
    {
     "data": {
      "text/plain": [
       "(200, 2)"
      ]
     },
     "execution_count": 159,
     "metadata": {},
     "output_type": "execute_result"
    }
   ],
   "source": [
    "N,n = X.shape\n",
    "N,n"
   ]
  },
  {
   "cell_type": "code",
   "execution_count": 160,
   "metadata": {},
   "outputs": [],
   "source": [
    "def covariance_matrix():\n",
    "    N,n = X.shape\n",
    "    cov_mat = np.zeros((n,n))\n",
    "    for i in range(no_of_class):\n",
    "        for j in range(x_[i].shape[0]):\n",
    "            cov_mat = cov_mat + np.outer( x_[i][j] - mu_vector_[i], (x_[i][j] - mu_vector_[i]).T )\n",
    "            \n",
    "    return cov_mat/N "
   ]
  },
  {
   "cell_type": "code",
   "execution_count": 161,
   "metadata": {},
   "outputs": [
    {
     "name": "stdout",
     "output_type": "stream",
     "text": [
      "14126.725865822536\n",
      "[[110.63495  60.8828 ]\n",
      " [ 60.8828  161.19175]]\n"
     ]
    }
   ],
   "source": [
    "cov = covariance_matrix()\n",
    "cov_inv = np.linalg.inv(cov)\n",
    "cov_det = np.linalg.det(cov)\n",
    "print(cov_det)\n",
    "print(cov)"
   ]
  },
  {
   "cell_type": "code",
   "execution_count": 162,
   "metadata": {},
   "outputs": [],
   "source": [
    "def probability_y():\n",
    "    prob_y_ = []\n",
    "    actual_y_lst = list(y)\n",
    "    for i in range(len(classes_list_)) :\n",
    "        #actual_y_lst = list(y)\n",
    "        prob_y_.append( (actual_y_lst.count(classes_list_[i])) / len(actual_y_lst) )\n",
    "    return prob_y_"
   ]
  },
  {
   "cell_type": "code",
   "execution_count": 163,
   "metadata": {},
   "outputs": [
    {
     "data": {
      "text/plain": [
       "[0.5, 0.5]"
      ]
     },
     "execution_count": 163,
     "metadata": {},
     "output_type": "execute_result"
    }
   ],
   "source": [
    "prob_y_ = probability_y()\n",
    "prob_y_"
   ]
  },
  {
   "cell_type": "code",
   "execution_count": 164,
   "metadata": {},
   "outputs": [
    {
     "data": {
      "text/plain": [
       "array([38., 44.])"
      ]
     },
     "execution_count": 164,
     "metadata": {},
     "output_type": "execute_result"
    }
   ],
   "source": [
    "x_[1][88]"
   ]
  },
  {
   "cell_type": "raw",
   "metadata": {},
   "source": [
    "a = np.log(prob_y_[0]) - 0.5 * (np.dot( np.dot((mu_vector_[0]).T,cov_inv),mu_vector_[0] ) ) \n",
    "b = a + np.dot(np.dot(x_[1][88].T,cov_inv),mu_vector_[0])   # CLASS 0\n",
    "b"
   ]
  },
  {
   "cell_type": "raw",
   "metadata": {},
   "source": [
    "a = np.log(prob_y_[1]) - 0.5 * (np.dot( np.dot((mu_vector_[1]).T,cov_inv),mu_vector_[1] ) ) \n",
    "b = a + np.dot(np.dot(x_[1][88].T,cov_inv),mu_vector_[1])   # CLASS 1\n",
    "b"
   ]
  },
  {
   "cell_type": "code",
   "execution_count": 165,
   "metadata": {},
   "outputs": [],
   "source": [
    "def predict_y(): # to get the predicted y vector\n",
    "    pred = []\n",
    "    for i in range(X.shape[0]):\n",
    "        tst = []\n",
    "        for j in range(no_of_class):\n",
    "            a = np.log(prob_y_[j]) - 0.5 * (np.dot( np.dot((mu_vector_[j]).T,cov_inv),mu_vector_[j] ) ) \n",
    "            b = a + np.dot(np.dot(X[i].T,cov_inv),mu_vector_[j])\n",
    "            tst.append(b)\n",
    "        d = max(tst)\n",
    "        f = tst.index(d)\n",
    "        pred.append(classes_list_[f])\n",
    "    \n",
    "    return np.array(pred)"
   ]
  },
  {
   "cell_type": "code",
   "execution_count": 166,
   "metadata": {},
   "outputs": [
    {
     "data": {
      "text/plain": [
       "array([1., 1., 1., 1., 1., 1., 1., 1., 1., 1., 1., 1., 1., 1., 1., 1., 1.,\n",
       "       1., 1., 1., 1., 1., 1., 1., 1., 1., 1., 1., 1., 1., 1., 1., 1., 1.,\n",
       "       1., 1., 1., 1., 1., 1., 1., 1., 1., 1., 1., 1., 1., 1., 1., 1., 1.,\n",
       "       1., 1., 1., 1., 1., 1., 1., 1., 1., 1., 1., 1., 1., 1., 1., 1., 1.,\n",
       "       1., 1., 1., 1., 1., 1., 1., 1., 1., 1., 1., 1., 1., 1., 1., 1., 1.,\n",
       "       1., 1., 1., 0., 1., 1., 1., 1., 1., 1., 1., 1., 1., 1., 1., 0., 0.,\n",
       "       0., 0., 0., 0., 1., 0., 0., 0., 0., 0., 0., 0., 0., 1., 0., 0., 0.,\n",
       "       0., 0., 0., 0., 0., 0., 0., 0., 0., 0., 0., 0., 1., 0., 0., 0., 0.,\n",
       "       0., 0., 0., 0., 0., 0., 0., 0., 0., 0., 0., 0., 0., 0., 0., 0., 0.,\n",
       "       0., 0., 0., 0., 0., 0., 0., 0., 0., 0., 0., 0., 0., 0., 0., 0., 0.,\n",
       "       0., 0., 0., 0., 0., 0., 1., 0., 0., 0., 1., 0., 0., 0., 1., 0., 0.,\n",
       "       0., 0., 0., 0., 0., 0., 0., 0., 0., 1., 1., 0., 0.])"
      ]
     },
     "execution_count": 166,
     "metadata": {},
     "output_type": "execute_result"
    }
   ],
   "source": [
    "predicted_y = predict_y()\n",
    "predicted_y"
   ]
  },
  {
   "cell_type": "code",
   "execution_count": 167,
   "metadata": {},
   "outputs": [
    {
     "data": {
      "text/plain": [
       "array([1., 1., 1., 1., 1., 1., 1., 1., 1., 1., 1., 1., 1., 1., 1., 1., 1.,\n",
       "       1., 1., 1., 1., 1., 1., 1., 1., 1., 1., 1., 1., 1., 1., 1., 1., 1.,\n",
       "       1., 1., 1., 1., 1., 1., 1., 1., 1., 1., 1., 1., 1., 1., 1., 1., 1.,\n",
       "       1., 1., 1., 1., 1., 1., 1., 1., 1., 1., 1., 1., 1., 1., 1., 1., 1.,\n",
       "       1., 1., 1., 1., 1., 1., 1., 1., 1., 1., 1., 1., 1., 1., 1., 1., 1.,\n",
       "       1., 1., 1., 1., 1., 1., 1., 1., 1., 1., 1., 1., 1., 1., 1., 0., 0.,\n",
       "       0., 0., 0., 0., 0., 0., 0., 0., 0., 0., 0., 0., 0., 0., 0., 0., 0.,\n",
       "       0., 0., 0., 0., 0., 0., 0., 0., 0., 0., 0., 0., 0., 0., 0., 0., 0.,\n",
       "       0., 0., 0., 0., 0., 0., 0., 0., 0., 0., 0., 0., 0., 0., 0., 0., 0.,\n",
       "       0., 0., 0., 0., 0., 0., 0., 0., 0., 0., 0., 0., 0., 0., 0., 0., 0.,\n",
       "       0., 0., 0., 0., 0., 0., 0., 0., 0., 0., 0., 0., 0., 0., 0., 0., 0.,\n",
       "       0., 0., 0., 0., 0., 0., 0., 0., 0., 0., 0., 0., 0.])"
      ]
     },
     "execution_count": 167,
     "metadata": {},
     "output_type": "execute_result"
    }
   ],
   "source": [
    "y"
   ]
  },
  {
   "cell_type": "code",
   "execution_count": 168,
   "metadata": {},
   "outputs": [],
   "source": [
    "def accuracy():\n",
    "    correct_prediction = 0\n",
    "    for i in range(y.shape[0]):\n",
    "        if (predicted_y[i] == y[i]):\n",
    "            correct_prediction += 1\n",
    "    \n",
    "    per = (correct_prediction *100) / y.size\n",
    "    print(per)"
   ]
  },
  {
   "cell_type": "code",
   "execution_count": 169,
   "metadata": {},
   "outputs": [
    {
     "name": "stdout",
     "output_type": "stream",
     "text": [
      "95.5\n"
     ]
    }
   ],
   "source": [
    "acc = accuracy()"
   ]
  },
  {
   "cell_type": "code",
   "execution_count": 170,
   "metadata": {},
   "outputs": [
    {
     "data": {
      "text/plain": [
       "[<matplotlib.lines.Line2D at 0x1a6128d5cc0>]"
      ]
     },
     "execution_count": 170,
     "metadata": {},
     "output_type": "execute_result"
    },
    {
     "data": {
      "image/png": "[encoded data removed]",
      "text/plain": [
       "<Figure size 432x288 with 1 Axes>"
      ]
     },
     "metadata": {},
     "output_type": "display_data"
    }
   ],
   "source": [
    "w = np.dot(cov_inv,mu_vector_[1] - mu_vector_[0]).reshape(n,1)\n",
    "l = -0.5*np.dot(np.dot(mu_vector_[1].T,cov_inv),mu_vector_[1])\n",
    "m = 0.5*np.dot(np.dot(mu_vector_[0].T,cov_inv),mu_vector_[0])\n",
    "n = np.log(prob_y_[1] / prob_y_[0])\n",
    "w0 = l + m + n\n",
    "fig = plt.figure()\n",
    "ax = fig.add_axes([0,0,1,1])\n",
    "\n",
    "ax.scatter(X[y == 0][:, 0], X[y == 0][:, 1], color='b', label='0')\n",
    "ax.scatter(X[y == 1][:, 0], X[y == 1][:, 1], color='r', label='1')\n",
    "\n",
    "x_vals = np.array(ax.get_xlim())\n",
    "y_vals = -(x_vals * w[0] + w0)/w[1]\n",
    "\n",
    "\n",
    "ax.plot(x_vals,y_vals,color=\"black\")"
   ]
  },
  {
   "cell_type": "code",
   "execution_count": null,
   "metadata": {},
   "outputs": [],
   "source": []
  },
  {
   "cell_type": "code",
   "execution_count": null,
   "metadata": {},
   "outputs": [],
   "source": []
  },
  {
   "cell_type": "code",
   "execution_count": null,
   "metadata": {},
   "outputs": [],
   "source": []
  },
  {
   "cell_type": "code",
   "execution_count": null,
   "metadata": {},
   "outputs": [],
   "source": []
  },
  {
   "cell_type": "code",
   "execution_count": null,
   "metadata": {},
   "outputs": [],
   "source": []
  }
 ],
 "metadata": {
  "kernelspec": {
   "display_name": "Python 3",
   "language": "python",
   "name": "python3"
  },
  "language_info": {
   "codemirror_mode": {
    "name": "ipython",
    "version": 3
   },
   "file_extension": ".py",
   "mimetype": "text/x-python",
   "name": "python",
   "nbconvert_exporter": "python",
   "pygments_lexer": "ipython3",
   "version": "3.6.5"
  }
 },
 "nbformat": 4,
 "nbformat_minor": 2
}
